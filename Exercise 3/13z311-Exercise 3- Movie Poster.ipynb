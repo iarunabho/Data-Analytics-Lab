{
 "cells": [
  {
   "cell_type": "code",
   "execution_count": null,
   "metadata": {},
   "outputs": [],
   "source": [
    "import numpy as np \n",
    "import pandas as pd "
   ]
  },
  {
   "cell_type": "code",
   "execution_count": null,
   "metadata": {},
   "outputs": [],
   "source": [
    "path = 'SampleMoviePosters'\n",
    "import glob\n",
    "import scipy.misc\n",
    "image_glob = glob.glob(path+\"/\"+\"*.jpg\")\n",
    "img_dict = {}\n",
    "def get_id(filename):\n",
    "    index_s = filename.rfind(\"/\")+1\n",
    "    index_f = filename.rfind(\".jpg\")\n",
    "    return filename[index_s:index_f]\n",
    "_ = [img_dict.update({get_id(fn):scipy.misc.imread(fn)}) for fn in image_glob]"
   ]
  },
  {
   "cell_type": "code",
   "execution_count": null,
   "metadata": {},
   "outputs": [],
   "source": [
    "df = pd.read_csv(\"MovieGenre.csv\",encoding=\"ISO-8859-1\")\n",
    "genres = []\n",
    "length = len(df)\n",
    "for n in range(len(df)):\n",
    "    g = str(df.loc[n][\"Genre\"])\n",
    "    genres.append(g)\n",
    "    \n",
    "classes = list(set(genres))\n",
    "classes.sort()\n",
    "num_classes = len(classes)\n",
    "\n",
    "def get_classes_from_movie(movie_id):\n",
    "    y = np.zeros(num_classes)\n",
    "    g = str(df[df['imdbId']==movie_id]['Genre'].values[0])\n",
    "    y[classes.index(g)] = 1\n",
    "    return y    "
   ]
  },
  {
   "cell_type": "code",
   "execution_count": null,
   "metadata": {},
   "outputs": [],
   "source": [
    "import random\n",
    "\n",
    "\n",
    "def preprocess(img,size=32):\n",
    "    img = scipy.misc.imresize(img,(size,size))\n",
    "    img = img.astype(np.float32)\n",
    "    img = (img / 127.5) - 1.\n",
    "    return img\n",
    "    \n",
    "\n",
    "def get_dataset(train_size,img_size=32):\n",
    "     \n",
    "        indices = random.sample(range(len(list(img_dict.keys()))),train_size)\n",
    "        x = []\n",
    "        y = []\n",
    "        x_test = []\n",
    "        y_test = []\n",
    "        for i in range(len(list(img_dict.keys()))):\n",
    "            id_key = int(list(img_dict.keys())[i])\n",
    "            if i in indices:\n",
    "                x.append(preprocess(img_dict[list(img_dict.keys())[i]],size=img_size))\n",
    "                y.append(get_classes_from_movie(id_key))\n",
    "            else:\n",
    "                x_test.append(preprocess(img_dict[list(img_dict.keys())[i]],size=img_size))\n",
    "                y_test.append(get_classes_from_movie(id_key))\n",
    "        return x,y,x_test,y_test\n",
    "\n",
    "SIZE = 128   \n",
    "x,y,x_test,y_test = get_dataset(900,img_size=SIZE)\n",
    "x = np.asarray(x)\n",
    "y = np.asarray(y)\n",
    "x_test = np.asarray(x_test)\n",
    "y_test = np.asarray(y_test)"
   ]
  },
  {
   "cell_type": "code",
   "execution_count": null,
   "metadata": {},
   "outputs": [],
   "source": [
    "from keras import backend as K\n",
    "import keras\n",
    "from keras.models import Sequential\n",
    "from keras.layers import Dense, Dropout, Flatten\n",
    "from keras.layers import Conv2D, MaxPooling2D\n",
    "\n",
    "model = Sequential()\n",
    "model.add(Conv2D(32,kernel_size=(3,3),activation='relu',input_shape=(SIZE,SIZE,3)))\n",
    "model.add(Conv2D(64, (3, 3), activation='relu'))\n",
    "model.add(Conv2D(64, (3, 3), activation='relu'))\n",
    "model.add(Conv2D(64, (3, 3), activation='relu'))\n",
    "model.add(MaxPooling2D(pool_size=(2, 2)))\n",
    "model.add(Dropout(0.25))\n",
    "model.add(Flatten())\n",
    "model.add(Dense(128, activation='relu'))\n",
    "model.add(Dropout(0.5))\n",
    "model.add(Dense(num_classes, activation='softmax'))\n",
    "\n",
    "model.compile(loss='categorical_crossentropy',\n",
    "              optimizer=keras.optimizers.Adam(),\n",
    "              metrics=['accuracy'])\n",
    "\n",
    "\n",
    "model.fit(x, y,\n",
    "          batch_size=50,\n",
    "          epochs=5,\n",
    "          verbose=1,\n",
    "          validation_data=(x_test, y_test))\n",
    "score = model.evaluate(x_test, y_test, verbose=0)\n",
    "print('Test loss:', score[0])\n",
    "print('Test accuracy:', score[1])"
   ]
  },
  {
   "cell_type": "code",
   "execution_count": null,
   "metadata": {},
   "outputs": [],
   "source": [
    "pred = model.predict(np.asarray([x_test[5]]))\n",
    "print(pred)\n",
    "print(np.argmax(pred))\n",
    "print(np.argmax(y_test[5]))"
   ]
  },
  {
   "cell_type": "code",
   "execution_count": null,
   "metadata": {},
   "outputs": [],
   "source": []
  }
 ],
 "metadata": {
  "kernelspec": {
   "display_name": "Python 3",
   "language": "python",
   "name": "python3"
  },
  "language_info": {
   "codemirror_mode": {
    "name": "ipython",
    "version": 3
   },
   "file_extension": ".py",
   "mimetype": "text/x-python",
   "name": "python",
   "nbconvert_exporter": "python",
   "pygments_lexer": "ipython3",
   "version": "3.6.5"
  }
 },
 "nbformat": 4,
 "nbformat_minor": 2
}
