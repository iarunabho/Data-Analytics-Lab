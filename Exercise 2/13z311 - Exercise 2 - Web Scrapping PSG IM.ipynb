{
 "cells": [
  {
   "cell_type": "code",
   "execution_count": 2,
   "metadata": {},
   "outputs": [
    {
     "name": "stdout",
     "output_type": "stream",
     "text": [
      "<Response [200]>\n"
     ]
    }
   ],
   "source": [
    "import requests\n",
    "r  = requests.get(\"http://psgim.ac.in/2017/01/full-time-faculty/\")\n",
    "print(r)"
   ]
  },
  {
   "cell_type": "code",
   "execution_count": 3,
   "metadata": {},
   "outputs": [
    {
     "name": "stdout",
     "output_type": "stream",
     "text": [
      "Number of faculties 31\n",
      "1 Dr Archana Krishnan\n",
      "2 DR ARUL RAJAN K\n",
      "3 DR Balasudarsun N L\n",
      "4 DR DEEPA R\n",
      "5 Mr Harish V \n",
      "6 DR JAGAJEEVAN R\n",
      "7 DR JOSHUA SELVAKUMAR J\n",
      "8 Mr Karthikeyan M S\n",
      "9 Mr KARTHIKEYAN L \n",
      "10 DR KAVITHA D\n",
      "11 Dr KRISHNAVENI R\n",
      "12 DR KRISHNAVENI MUTHIAH R\n",
      "13 Dr MANJU P GEORGE\n",
      "14 MR Manikandan S S\n",
      "15 DR MANSURALI A\n",
      "16 Ms Rajeswari R\n",
      "17 DR RAMAN H\n",
      "18 Dr RAMKUMAR N\n",
      "19 DR SATHISH M\n",
      "20 DR SATHYANARAYANAN R S\n",
      "21 DR SEKKIZHAR J\n",
      "22  Dr Srigayathri Devi K\n",
      "23 Dr SRIVIDYA V\n",
      "24 DR SUJATHA R \n",
      "25 DR SUDHARANI RAVINDRAN D\n",
      "26 DR SWAMYNATHAN R\n",
      "27 DR THILAGAM V\n",
      "28 DR UMA MAHESWARI B\n",
      "29 DR UMESH CHANDRASEKHAR\n",
      "30 Dr VIJAYA T G\n",
      "31 DR VIVEK N\n"
     ]
    }
   ],
   "source": [
    "from bs4 import BeautifulSoup \n",
    "soup = BeautifulSoup(r.content, 'html.parser')\n",
    "faculty = soup.findAll('div',{\"class\":\"vc_column-inner\"})\n",
    "facultyName = []\n",
    "for i in range(len(faculty)):\n",
    "    if faculty[i].find('h4'):\n",
    "        facultyName.append(faculty[i].find('h4').text)\n",
    "facultyName.remove('Ms Muthu Janaki')\n",
    "print('Number of faculties',len(facultyName))\n",
    "for i in range(len(facultyName)):\n",
    "    print(str(i+1)+\" \"+facultyName[i])"
   ]
  },
  {
   "cell_type": "code",
   "execution_count": 8,
   "metadata": {},
   "outputs": [
    {
     "name": "stdout",
     "output_type": "stream",
     "text": [
      "Faculty with B.Tech: \n",
      "1 Mr KARTHIKEYAN L \n"
     ]
    }
   ],
   "source": [
    "\n",
    "index = -1\n",
    "count = 0\n",
    "\n",
    "\n",
    "faculty = soup.findAll('div',{\"class\":\"wpb_text_column\"})\n",
    "\n",
    "print(\"Faculty with B.Tech: \")\n",
    "for i in range(len(faculty)):\n",
    "    if faculty[i].find('p'):\n",
    "        \n",
    "        if faculty[i].find('p').text.find('Qualification')!=-1:\n",
    "            index=index+1\n",
    "            \n",
    "            if faculty[i].find('p').text.find('B.Tech')!=-1 or faculty[i].find('p').text.find('B.,')!=-1 or faculty[i].find('p').text.find('Btech')!=-1:\n",
    "                \n",
    "                count=count+1\n",
    "                print(count,facultyName[index])"
   ]
  },
  {
   "cell_type": "code",
   "execution_count": null,
   "metadata": {},
   "outputs": [],
   "source": []
  },
  {
   "cell_type": "code",
   "execution_count": null,
   "metadata": {},
   "outputs": [],
   "source": []
  }
 ],
 "metadata": {
  "kernelspec": {
   "display_name": "Python 3",
   "language": "python",
   "name": "python3"
  },
  "language_info": {
   "codemirror_mode": {
    "name": "ipython",
    "version": 3
   },
   "file_extension": ".py",
   "mimetype": "text/x-python",
   "name": "python",
   "nbconvert_exporter": "python",
   "pygments_lexer": "ipython3",
   "version": "3.6.6"
  }
 },
 "nbformat": 4,
 "nbformat_minor": 2
}
